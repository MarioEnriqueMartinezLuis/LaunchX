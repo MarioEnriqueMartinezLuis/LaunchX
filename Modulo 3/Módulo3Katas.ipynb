{
 "cells": [
  {
   "cell_type": "markdown",
   "metadata": {},
   "source": [
    "## Declaraciones if, else, y elif"
   ]
  },
  {
   "cell_type": "code",
   "execution_count": 3,
   "metadata": {},
   "outputs": [
    {
     "name": "stdout",
     "output_type": "stream",
     "text": [
      "¡Todo esta bajo control 😎!\n"
     ]
    }
   ],
   "source": [
    "# Añadir el código necesario para crear una variable que guarde la velocidad del asteroide.\n",
    "# Escribe una expresión de prueba para calcular si necesita una advertencia.\n",
    "# Agregue las instrucciones que se ejecutarán si la expresión de prueba es true o false.\n",
    "\n",
    "asteroide = 49\n",
    "if asteroide > 30:\n",
    "    print('¡Alerta! ¡Un asteroide viene en camino.....!')\n",
    "else:\n",
    "    print('¡Todo esta bajo control 😎!')"
   ]
  },
  {
   "cell_type": "code",
   "execution_count": null,
   "metadata": {},
   "outputs": [],
   "source": [
    "# Agrega el código para crear una variable para un asteroide que viaja a 19 km/s\n",
    "# Escribe varias expresiones de prueba para determinar si puedes ver el rayo de luz desde la tierra\n",
    "# Agrega las instrucciones que se ejecutarán si las expresiones de prueba son True o False\n",
    "\n",
    "asteroide = 19\n",
    "if asteroide > 20:\n",
    "    print('¡Veo un rayo de luz en el cielo! 😱')\n",
    "elif asteroide == 20:\n",
    "    print('¡Hay una luz en el cielo! 😍')\n",
    "else:\n",
    "    print('¡No veo nada! 🤨')"
   ]
  },
  {
   "cell_type": "code",
   "execution_count": null,
   "metadata": {},
   "outputs": [],
   "source": [
    "# Agrega el código para crear nuevas variables para la velocidad y el tamaño del asteroide\n",
    "# Para probar el código, prueba con varias velocidades y tamaños\n",
    "# Escribe varias expresiones de prueba o combinaciones de expresiones de prueba para determinar qué mensaje se debe enviar a Tierra.\n",
    "\n",
    "velocidad_asteroide = 40\n",
    "tamanio_asteroide = 500\n",
    "if velocidad_asteroide > 30 and tamanio_asteroide >= 200:\n",
    "    print('¡Alerta, Un asteroide viene hacia la Tierra! 😭')\n",
    "elif velocidad_asteroide > 30 and tamanio_asteroide < 200:\n",
    "    print('¿Es un pajaro, es un avión? ¡No, es una asteroide! 😱')\n",
    "elif velocidad_asteroide > 20:\n",
    "    print('¡Veo una luz en el cielo! 😱')\n",
    "elif tamanio_asteroide < 100:\n",
    "    print('¡No veo nada! 🤨')\n",
    "else:\n",
    "    print('¡No veo nada! 🤨')"
   ]
  }
 ],
 "metadata": {
  "interpreter": {
   "hash": "1e8a07ab34ef4eaf919ad0a18c040b1c2c68d807c3bbd8fb78bb5c2d5a11ccc0"
  },
  "kernelspec": {
   "display_name": "Python 3.10.2 64-bit",
   "language": "python",
   "name": "python3"
  },
  "language_info": {
   "codemirror_mode": {
    "name": "ipython",
    "version": 3
   },
   "file_extension": ".py",
   "mimetype": "text/x-python",
   "name": "python",
   "nbconvert_exporter": "python",
   "pygments_lexer": "ipython3",
   "version": "3.10.2"
  },
  "orig_nbformat": 4
 },
 "nbformat": 4,
 "nbformat_minor": 2
}
